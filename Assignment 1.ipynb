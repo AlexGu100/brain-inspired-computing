{
 "cells": [
  {
   "cell_type": "markdown",
   "metadata": {},
   "source": [
    "# Brain Inspired Computing Assignment 1\n",
    "#### Alex Gu, asg196, 163000609"
   ]
  },
  {
   "cell_type": "markdown",
   "metadata": {},
   "source": [
    "### Question #1\n",
    "\n",
    "If an IF neuron is fed a very low current the membrane potential will build up very slowly, and eventually, the neuron will fire. However, a LIF neuron on the other hand, given a low enough current, will build up the membrane potential indefinitely while leaking an equal amount of voltage and never fire. "
   ]
  },
  {
   "cell_type": "markdown",
   "metadata": {},
   "source": [
    "### Question #2\n",
    "\n",
    "If an IF neuron is fed a higher current, it will fire at a steady rate, as expected. A LIF neuron will behave similarly, but will fire at a slightly lower rate, since it is constantly leaking voltage and will thus reach the threshold potential more slowly."
   ]
  },
  {
   "cell_type": "markdown",
   "metadata": {},
   "source": [
    "### Question #3\n",
    "\n",
    "The LIF neuron is not affected by any of its previous spikes, since its membrane potential is completely reset with every firing. As a result, the LIF neuron model retains no memory of past spikes and cannot properly model any adaptation to changes in current."
   ]
  },
  {
   "cell_type": "markdown",
   "metadata": {},
   "source": [
    "### Programming #1: LIF Model 3"
   ]
  },
  {
   "cell_type": "code",
   "execution_count": 55,
   "metadata": {},
   "outputs": [
    {
     "data": {
      "application/vnd.jupyter.widget-view+json": {
       "model_id": "a4d92e44193244c39a364d19227d0451",
       "version_major": 2,
       "version_minor": 0
      },
      "text/plain": [
       "interactive(children=(IntSlider(value=5, description='i', min=5, step=5), IntSlider(value=5, description='cm',…"
      ]
     },
     "metadata": {},
     "output_type": "display_data"
    }
   ],
   "source": [
    "%matplotlib inline\n",
    "\n",
    "import matplotlib\n",
    "import numpy as np\n",
    "import matplotlib.pyplot as plt\n",
    "import ipywidgets as ip\n",
    "\n",
    "def lif(i, cm, rm, vr, vt, tmax):\n",
    "    plt.figure(2)\n",
    "    v = np.zeros(tmax)\n",
    "    \n",
    "    vm = vr\n",
    "    for t in range(tmax):\n",
    "        vm += (i - vm/rm)/cm\n",
    "        v[t] = vm\n",
    "        if vm >= vt:\n",
    "            vm = vr\n",
    "            \n",
    "    plt.plot(v)\n",
    "    plt.show()\n",
    "    \n",
    "i = ip.widgets.IntSlider(value = 5, min = 5, max = 100, step = 5)\n",
    "cm = ip.widgets.IntSlider(value = 5, min = 5, max = 100, step = 5)\n",
    "rm = ip.widgets.FloatSlider(value = 5, min = 0.5, max = 10, step = 0.5)\n",
    "vr = ip.widgets.IntSlider(value = -65, min = -100, max = 0, step = 5)\n",
    "vt = ip.widgets.IntSlider(value = 30, min = 5, max = 100, step = 5)\n",
    "tmax = ip.widgets.IntSlider(value = 100, min = 10, max = 1000, step = 10)\n",
    "\n",
    "interactive_plot = ip.interactive(lif, {'manual' : False, 'manual_name' : 'Run LIF Model'}, i = i, cm = cm, rm = rm, vr = vr, vt = vt, tmax = tmax)\n",
    "output = interactive_plot.children[-1]\n",
    "output.layout.height = '350px'\n",
    "interactive_plot"
   ]
  },
  {
   "cell_type": "markdown",
   "metadata": {},
   "source": [
    "### Programming #2: LIF Model 2"
   ]
  },
  {
   "cell_type": "code",
   "execution_count": 112,
   "metadata": {},
   "outputs": [
    {
     "data": {
      "application/vnd.jupyter.widget-view+json": {
       "model_id": "ddd059499fd84a08b125efc4abd2d928",
       "version_major": 2,
       "version_minor": 0
      },
      "text/plain": [
       "interactive(children=(IntSlider(value=20, description='imax', min=5, step=5), IntSlider(value=5, description='…"
      ]
     },
     "metadata": {},
     "output_type": "display_data"
    }
   ],
   "source": [
    "%matplotlib inline\n",
    "\n",
    "import matplotlib\n",
    "import numpy as np\n",
    "import matplotlib.pyplot as plt\n",
    "import ipywidgets as ip\n",
    "\n",
    "def lif(imax, cm, rm, vr, vt, tmax):\n",
    "    plt.figure(2)\n",
    "    f = np.full(imax, 1 / tmax)\n",
    "    \n",
    "    for i in range(imax):\n",
    "        vm = vr\n",
    "        for t in range(tmax):\n",
    "            vm += (i - vm/rm)/cm\n",
    "            if vm >= vt:\n",
    "                f[i] = 1 / t\n",
    "                break\n",
    "            \n",
    "    plt.plot(f)\n",
    "    plt.show()\n",
    "    \n",
    "imax = ip.widgets.IntSlider(value = 20, min = 5, max = 100, step = 5)\n",
    "cm = ip.widgets.IntSlider(value = 5, min = 5, max = 100, step = 5)\n",
    "rm = ip.widgets.FloatSlider(value = 5, min = 0.5, max = 10, step = 0.5)\n",
    "vr = ip.widgets.IntSlider(value = -65, min = -100, max = 0, step = 5)\n",
    "vt = ip.widgets.IntSlider(value = 30, min = 5, max = 100, step = 5)\n",
    "tmax = ip.widgets.IntSlider(value = 100, min = 10, max = 1000, step = 10)\n",
    "\n",
    "interactive_plot = ip.interactive(lif, {'manual' : False, 'manual_name' : 'Run LIF Model'}, imax = imax, cm = cm, rm = rm, vr = vr, vt = vt, tmax = tmax)\n",
    "output = interactive_plot.children[-1]\n",
    "output.layout.height = '350px'\n",
    "interactive_plot"
   ]
  },
  {
   "cell_type": "markdown",
   "metadata": {},
   "source": [
    "### Programming #3: LIF Model 3\n",
    "\n",
    "As the input current increases, the firing rate also increases. This is because the increased current causes the membrane potential of the neuron to build up more quickly, reaching the threshold potential faster and thus resulting in an increased firing rate."
   ]
  },
  {
   "cell_type": "markdown",
   "metadata": {},
   "source": [
    "### Programming #4: Izhikevich Model"
   ]
  },
  {
   "cell_type": "code",
   "execution_count": 54,
   "metadata": {},
   "outputs": [
    {
     "data": {
      "application/vnd.jupyter.widget-view+json": {
       "model_id": "1221d132e0c54fa7b68062c34046ca74",
       "version_major": 2,
       "version_minor": 0
      },
      "text/plain": [
       "interactive(children=(IntSlider(value=5, description='i', min=5, step=5), FloatSlider(value=0.02, description=…"
      ]
     },
     "metadata": {},
     "output_type": "display_data"
    }
   ],
   "source": [
    "%matplotlib inline\n",
    "\n",
    "import matplotlib\n",
    "import numpy as np\n",
    "import matplotlib.pyplot as plt\n",
    "import ipywidgets as ip\n",
    "import math\n",
    "\n",
    "def izhikevich(i, a, b, c, d, tmax):\n",
    "    plt.figure(2)\n",
    "    v = np.zeros(tmax)\n",
    "    \n",
    "    \n",
    "    vm = c\n",
    "    u = 0\n",
    "    for t in range(tmax):\n",
    "        dv = 0.04 * math.pow(vm, 2) + 5 * vm + 140 - u + i\n",
    "        du = a * (b * vm - u)\n",
    "        vm += dv\n",
    "        u += du\n",
    "        v[t] = vm\n",
    "        if vm >= 30:\n",
    "            vm = c\n",
    "            u += d\n",
    "            \n",
    "    plt.plot(v)\n",
    "    plt.show()\n",
    "    \n",
    "i = ip.widgets.IntSlider(value = 5, min = 5, max = 100, step = 5)\n",
    "a = ip.widgets.FloatSlider(value = 0.02, min = 0.01, max = 0.1, step = 0.1)\n",
    "b = ip.widgets.FloatSlider(value = 0.2, min = 0.05, max = 1, step = 0.05)\n",
    "c = ip.widgets.IntSlider(value = -65, min = -100, max = 0, step = 5)\n",
    "d = ip.widgets.IntSlider(value = 2, min = 1, max = 100, step = 5)\n",
    "tmax = ip.widgets.IntSlider(value = 500, min = 10, max = 1000, step = 10)\n",
    "\n",
    "interactive_plot = ip.interactive(izhikevich, {'manual' : False, 'manual_name' : 'Run LIF Model'}, i = i, a = a, b = b, c = c, d = d, tmax = tmax)\n",
    "output = interactive_plot.children[-1]\n",
    "output.layout.height = '350px'\n",
    "interactive_plot"
   ]
  },
  {
   "cell_type": "markdown",
   "metadata": {},
   "source": [
    "### Programming #5: Hodgkin-Huxley Model"
   ]
  },
  {
   "cell_type": "code",
   "execution_count": 111,
   "metadata": {},
   "outputs": [
    {
     "data": {
      "application/vnd.jupyter.widget-view+json": {
       "model_id": "ff8dd5acbea748348da93c51bc7f3479",
       "version_major": 2,
       "version_minor": 0
      },
      "text/plain": [
       "interactive(children=(IntSlider(value=10, description='i', min=5, step=5), FloatSlider(value=1.0, description=…"
      ]
     },
     "metadata": {},
     "output_type": "display_data"
    }
   ],
   "source": [
    "%matplotlib inline\n",
    "\n",
    "import matplotlib\n",
    "import numpy as np\n",
    "import matplotlib.pyplot as plt\n",
    "import ipywidgets as ip\n",
    "import math\n",
    "\n",
    "def hh(i, cm, vna, vk, vl, gna, gk, gl, tmax):\n",
    "    plt.figure(2)\n",
    "    x = np.linspace(0, tmax, tmax * 1000)\n",
    "    v = np.zeros(tmax * 1000)\n",
    "    \n",
    "    vm = 0\n",
    "    n = 0\n",
    "    m = 0\n",
    "    h = 0\n",
    "    for t in range(tmax * 1000):\n",
    "        dv = (i - gna * math.pow(m, 3) * h * (vm - vna) - gk * math.pow(n, 4) * (vm - vk) - gl * (vm - vl)) / cm\n",
    "        an = 0.01 * (10 - vm) / (math.exp((10 - vm) / 10) - 1)\n",
    "        bn = 0.125 * math.exp(-vm / 80)\n",
    "        dn = an * (1 - n) - bn * n\n",
    "        am = 0.1 * (25 - vm) / (math.exp((25 - vm) / 10) - 1)\n",
    "        bm = 4 * math.exp(-vm / 18)\n",
    "        dm = am * (1 - m) - bm * m\n",
    "        ah = 0.07 * math.exp(-vm / 20)\n",
    "        bh = 1 / (math.exp((30 - vm) / 10) + 1)\n",
    "        dh = ah * (1 - h) - bh * h\n",
    "        \n",
    "        vm += dv / 1000\n",
    "        n += dn / 1000\n",
    "        m += dm / 1000\n",
    "        h += dh / 1000\n",
    "        v[t] = vm\n",
    "            \n",
    "    plt.plot(x, v)\n",
    "    plt.show()\n",
    "    \n",
    "i = ip.widgets.IntSlider(value = 10, min = 5, max = 100, step = 5)\n",
    "cm = ip.widgets.FloatSlider(value = 1, min = 0.8, max = 1.5, step = 0.1)\n",
    "vna = ip.widgets.IntSlider(value = 115, min = 95, max = 119)\n",
    "vk = ip.widgets.IntSlider(value = -12, min = -14, max = -9)\n",
    "vl = ip.widgets.IntSlider(value = 10, min = 4, max = 22)\n",
    "gna = ip.widgets.IntSlider(value = 120, min = 65, max = 260, step = 5)\n",
    "gk = ip.widgets.IntSlider(value = 36, min = 26, max = 49)\n",
    "gl = ip.widgets.FloatSlider(value = 0.3, min = 0.1, max = 0.5, step = 0.1)\n",
    "tmax = ip.widgets.IntSlider(value = 100, min = 10, max = 1000, step = 10)\n",
    "\n",
    "interactive_plot = ip.interactive(hh, {'manual' : False, 'manual_name' : 'Run LIF Model'}, i = i, cm = cm, vna = vna, vk = vk, vl = vl, gna = gna, gk = gk, gl = gl, tmax = tmax)\n",
    "output = interactive_plot.children[-1]\n",
    "output.layout.height = '350px'\n",
    "interactive_plot"
   ]
  }
 ],
 "metadata": {
  "kernelspec": {
   "display_name": "Python 3",
   "language": "python",
   "name": "python3"
  },
  "language_info": {
   "codemirror_mode": {
    "name": "ipython",
    "version": 3
   },
   "file_extension": ".py",
   "mimetype": "text/x-python",
   "name": "python",
   "nbconvert_exporter": "python",
   "pygments_lexer": "ipython3",
   "version": "3.6.7"
  }
 },
 "nbformat": 4,
 "nbformat_minor": 2
}
